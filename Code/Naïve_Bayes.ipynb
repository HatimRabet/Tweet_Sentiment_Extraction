{
 "cells": [
  {
   "cell_type": "markdown",
   "metadata": {},
   "source": [
    "# <div align = \"center\"> Naïve Bayes model </div>"
   ]
  },
  {
   "cell_type": "markdown",
   "metadata": {},
   "source": [
    "# <font color = \"red\"><div align = \"left\"> Data importation and processing </font></div>"
   ]
  },
  {
   "cell_type": "code",
   "execution_count": 335,
   "metadata": {},
   "outputs": [],
   "source": [
    "import pandas as pd\n",
    "import numpy as np \n",
    "import math as mt \n",
    "import re\n",
    "import nltk\n",
    "from nltk.corpus import stopwords\n",
    "from nltk.corpus import twitter_samples \n",
    "from nltk.stem.porter import PorterStemmer\n",
    "from nltk.tokenize import TweetTokenizer # module for tokenizing strings\n",
    "import matplotlib.pyplot as plt \n",
    "import seaborn as sns\n",
    "import string"
   ]
  },
  {
   "cell_type": "code",
   "execution_count": 336,
   "metadata": {},
   "outputs": [],
   "source": [
    "training_path = \"../tweet-sentiment-extraction/train.csv\"\n",
    "Train_df = pd.read_csv(training_path)\n",
    "\n",
    "test_path = \"../tweet-sentiment-extraction/test.csv\"\n",
    "Test_df = pd.read_csv(test_path)"
   ]
  },
  {
   "cell_type": "code",
   "execution_count": 337,
   "metadata": {},
   "outputs": [],
   "source": [
    "# dropping rows with missing values\n",
    "\n",
    "Train_df = Train_df.dropna()"
   ]
  },
  {
   "cell_type": "code",
   "execution_count": 338,
   "metadata": {},
   "outputs": [
    {
     "name": "stderr",
     "output_type": "stream",
     "text": [
      "[nltk_data] Downloading package stopwords to\n",
      "[nltk_data]     C:\\Users\\Mrabe\\AppData\\Roaming\\nltk_data...\n",
      "[nltk_data]   Package stopwords is already up-to-date!\n"
     ]
    }
   ],
   "source": [
    "#stopwords represnt a dictionnary (english words)\n",
    "\n",
    "nltk.download(\"stopwords\")\n",
    "stopwords_english = stopwords.words('english')\n",
    "stopwords_punctuation = string.punctuation"
   ]
  },
  {
   "cell_type": "code",
   "execution_count": 339,
   "metadata": {},
   "outputs": [],
   "source": [
    "#Tokenization function \n",
    "\n",
    "def tokens(words):\n",
    "    # instantiate tokenizer class\n",
    "    tokenizer = TweetTokenizer(preserve_case=False, strip_handles=True,\n",
    "    reduce_len=True)\n",
    "    # tokenize tweets\n",
    "    tweet_tokens = tokenizer.tokenize(words)\n",
    "    return tweet_tokens\n",
    "\n",
    "# Removing Hashtags and hyperlinks\n",
    "\n",
    "def cleaning_tweet(tweet):\n",
    "    tweet2= re.sub(r'^RT[\\s]+', '', tweet)\n",
    "    # remove hyperlinks\n",
    "    tweet2 = re.sub(r'https?://[^\\s\\n\\r]+', '', tweet2)\n",
    "    # remove hashtags\n",
    "    # only removing the hash # sign from the word\n",
    "    tweet2 = re.sub(r'#', '', tweet2)\n",
    "    return tweet2\n",
    "\n",
    "# Removing stopwords and punctuation\n",
    "\n",
    "def remove_stopwords_punctuation(tweet_tokens):\n",
    "    tweets_clean = []\n",
    "    for word in tweet_tokens: # Go through every word in your tokens list\n",
    "        if (word not in stopwords_english and # remove stopwords\n",
    "            word not in string.punctuation): # remove punctuation\n",
    "            tweets_clean.append(word)\n",
    "    return tweets_clean\n",
    "\n",
    "# Keeping just stems for each work\n",
    "\n",
    "def stemming(tweet_clean_tokenized):\n",
    "    # Instantiate stemming class\n",
    "    stemmer = PorterStemmer()\n",
    "    # Create an empty list to store the stems\n",
    "    tweets_stem = []\n",
    "    for word in tweet_clean_tokenized:\n",
    "        stem_word = stemmer.stem(word) # stemming word\n",
    "        tweets_stem.append(stem_word) # append to the list\n",
    "    return tweets_stem\n",
    "\n",
    "# processing function\n",
    "\n",
    "def process_tweet(tweet):\n",
    "    clear_text = cleaning_tweet(tweet)\n",
    "    tokenized = tokens(clear_text)\n",
    "    clean_tweet = remove_stopwords_punctuation(tokenized)\n",
    "    processed_tweet = stemming(clean_tweet)\n",
    "    return processed_tweet"
   ]
  },
  {
   "cell_type": "code",
   "execution_count": 340,
   "metadata": {},
   "outputs": [],
   "source": [
    "#Function for encoding sentiment :\n",
    "\n",
    "def encoding_sentiment(sentiment):\n",
    "    if sentiment == \"negative\":\n",
    "        return -1\n",
    "    if sentiment == \"neutral\":\n",
    "        return 0\n",
    "    return 1"
   ]
  },
  {
   "cell_type": "code",
   "execution_count": 341,
   "metadata": {},
   "outputs": [],
   "source": [
    "#Applying this function on the training dataset\n",
    "\n",
    "\n",
    "Train_df[\"text_clear\"] = Train_df[\"text\"].apply(process_tweet)\n",
    "Train_df[\"selected_text_clear\"] = Train_df[\"selected_text\"].apply(process_tweet)"
   ]
  },
  {
   "cell_type": "code",
   "execution_count": 342,
   "metadata": {},
   "outputs": [],
   "source": [
    "import pandas as pd\n",
    "\n",
    "# Assuming you have a DataFrame df with data and labels\n",
    "train_size = 0.8\n",
    "\n",
    "X_train = Train_df.sample(frac=train_size, random_state=105)\n",
    "X_val = Train_df.drop(X_train.index)\n",
    "\n",
    "X_train[\"sentiment\"] = X_train[\"sentiment\"].apply(lambda x : encoding_sentiment(x))\n",
    "X_val[\"sentiment\"] = X_val[\"sentiment\"].apply(lambda x : encoding_sentiment(x))\n",
    "\n",
    "y_train = X_train[\"sentiment\"]\n",
    "y_val = X_val[\"sentiment\"]\n",
    "\n",
    "X_train = X_train.drop(columns = [\"textID\",\"selected_text\",\"text\",\"selected_text_clear\", \"sentiment\"])\n",
    "X_val = X_val.drop(columns = [\"textID\",\"selected_text\",\"text\",\"selected_text_clear\", \"sentiment\"])"
   ]
  },
  {
   "cell_type": "markdown",
   "metadata": {},
   "source": [
    "### <font color = \"red\"><div align = \"left\"> Let now build our frequencies dictionnary, so as to build the probabilities table </font></div>"
   ]
  },
  {
   "cell_type": "code",
   "execution_count": 343,
   "metadata": {},
   "outputs": [],
   "source": [
    "#Building the corpus of our dataset\n",
    "\n",
    "corpus = []\n",
    "for list_words in X_train[\"text_clear\"]:\n",
    "    for word in list_words:\n",
    "        if word not in corpus:\n",
    "            corpus.append(word)"
   ]
  },
  {
   "cell_type": "code",
   "execution_count": 344,
   "metadata": {},
   "outputs": [],
   "source": [
    "# Function that builds the frequency doctionnary for each pair of word and sentiment\n",
    "\n",
    "def build_freqs(tweets, labels):\n",
    "\n",
    "    yslist = np.squeeze(labels).tolist()\n",
    "    # Start with an empty dictionary and populate it by looping over all tweets\n",
    "    # and over all processed words in each tweet.\n",
    "    freqs = {}\n",
    "    for y, tweet in zip(yslist, tweets):\n",
    "        for word in tweet:\n",
    "            pair = (word, y)\n",
    "            if pair in freqs:\n",
    "                freqs[pair] += 1\n",
    "            else:\n",
    "                freqs[pair] = 1\n",
    "    return freqs"
   ]
  },
  {
   "cell_type": "code",
   "execution_count": 345,
   "metadata": {},
   "outputs": [],
   "source": [
    "freqs_dict = build_freqs(X_train[\"text_clear\"], y_train)"
   ]
  },
  {
   "cell_type": "code",
   "execution_count": 346,
   "metadata": {},
   "outputs": [],
   "source": [
    "# This function computes the conditional prbability of each (word, class) and the prior probability\n",
    "\n",
    "def train_naive_bayes(freqs= freqs_dict, train_x= X_train, train_y= y_train):\n",
    "\n",
    "    probabilities = dict()\n",
    "    priors = [0,0,0]\n",
    "\n",
    "\n",
    "    # calculate V, the number of unique words in the vocabulary for each class \n",
    "\n",
    "    vocab = set([tuple(x)[0] for x in freqs.keys()])\n",
    "    vocab_neu = set(word for word, sentiment in freqs.keys() if sentiment == 0)\n",
    "    vocab_pos = set(word for word, sentiment in freqs.keys() if sentiment == 1)\n",
    "    vocab_neg = set(word for word, sentiment in freqs.keys() if sentiment == -1)\n",
    "\n",
    "    V_neu = len(vocab_neu)\n",
    "    V_pos = len(vocab_pos)\n",
    "    V_neg = len(vocab_neg)\n",
    "    \n",
    "\n",
    "    # Computing N_pos, N_neg, N_neu\n",
    "\n",
    "    N_pos, N_neg, N_neu = 0,0,0\n",
    "    for pair in freqs.keys():\n",
    "\n",
    "        if pair[1] == 0:\n",
    "            N_neu +=freqs[pair]\n",
    "        \n",
    "        if pair[1] == -1:\n",
    "            N_neg +=freqs[pair]\n",
    "        \n",
    "        else :\n",
    "            N_pos +=freqs[pair]\n",
    "\n",
    "    D = len(train_y)\n",
    "\n",
    "    D_pos = sum([y == 1 for y in train_y])\n",
    "\n",
    "    D_neg = len([y == -1 for y in train_y])\n",
    "\n",
    "    D_neu = len([y == 0 for y in train_y])\n",
    "\n",
    "    priors = [D_neu/D, D_pos/D, D_neg/D]\n",
    "\n",
    "    for word in vocab:\n",
    "\n",
    "        freq_pos = freqs.get((word,1),0)\n",
    "        freq_neg = freqs.get((word,-1),0)\n",
    "        freq_neu = freqs.get((word,0),0)\n",
    "\n",
    "        # Laplacian smoothing\n",
    "\n",
    "        probabilities[(word, 1)] = (freq_pos + 1) / (N_pos + V_pos)\n",
    "        probabilities[(word, 0)] = (freq_neu + 1) / (N_neu + V_neu)\n",
    "        probabilities[(word, -1)] = (freq_neg + 1) / (N_neg + V_neg)\n",
    "\n",
    "\n",
    "\n",
    "    return priors, probabilities"
   ]
  },
  {
   "cell_type": "code",
   "execution_count": 347,
   "metadata": {},
   "outputs": [],
   "source": [
    "priors, proba_table = train_naive_bayes(freqs_dict, X_train, y_train)"
   ]
  },
  {
   "cell_type": "code",
   "execution_count": 348,
   "metadata": {},
   "outputs": [],
   "source": [
    "mapping_sentiment = {0:0, 1:1, 2:-1}"
   ]
  },
  {
   "cell_type": "code",
   "execution_count": 349,
   "metadata": {},
   "outputs": [],
   "source": [
    "import numpy as np\n",
    "\n",
    "def predict_naive_bayes(processed_tweet, priors, proba_table):\n",
    "\n",
    "    #Computing the probality conditional for each class proba[sentiment]\n",
    "    \n",
    "    probas = [priors[0],priors[1],priors[-1]]\n",
    "\n",
    "    for word in processed_tweet:\n",
    "\n",
    "        probas[0] *= proba_table.get((word,0),1)\n",
    "        probas[1] *= proba_table.get((word,1),1)\n",
    "        probas[-1] *= proba_table.get((word,-1),1)\n",
    "\n",
    "    # Sorting the indexes with respect to the value of the list at the the index position\n",
    "    # Reverse the ordre to have an increasing order\n",
    "\n",
    "    probas_sorted = np.argsort(np.array(probas))[::-1]\n",
    "\n",
    "    return mapping_sentiment[probas_sorted[0]]"
   ]
  },
  {
   "cell_type": "code",
   "execution_count": 350,
   "metadata": {},
   "outputs": [],
   "source": [
    "# Predictions\n",
    "\n",
    "y_pred_sentiment = []\n",
    "\n",
    "for tweet in X_val[\"text_clear\"]:\n",
    "    \n",
    "    y_pred_sentiment.append(predict_naive_bayes(tweet, priors, proba_table))\n"
   ]
  },
  {
   "cell_type": "code",
   "execution_count": 351,
   "metadata": {},
   "outputs": [
    {
     "data": {
      "text/plain": [
       "0.5016375545851528"
      ]
     },
     "execution_count": 351,
     "metadata": {},
     "output_type": "execute_result"
    }
   ],
   "source": [
    "# Computing the accuracy\n",
    "\n",
    "m = len(y_pred_sentiment)\n",
    "\n",
    "y_val_arr = np.array(y_val)\n",
    "\n",
    "accuracy = np.sum(np.array(y_pred_sentiment) == y_val_arr)/m\n",
    "\n",
    "accuracy"
   ]
  },
  {
   "cell_type": "code",
   "execution_count": 352,
   "metadata": {},
   "outputs": [
    {
     "name": "stdout",
     "output_type": "stream",
     "text": [
      "Classification Report:\n",
      "              precision    recall  f1-score   support\n",
      "\n",
      "          -1       0.52      0.76      0.61      1538\n",
      "           0       0.47      0.64      0.54      2241\n",
      "           1       0.99      0.09      0.16      1717\n",
      "\n",
      "    accuracy                           0.50      5496\n",
      "   macro avg       0.66      0.50      0.44      5496\n",
      "weighted avg       0.64      0.50      0.44      5496\n",
      "\n"
     ]
    }
   ],
   "source": [
    "# Classification report\n",
    "\n",
    "from sklearn.metrics import classification_report\n",
    "\n",
    "report = classification_report(y_val_arr, np.array(y_pred_sentiment))\n",
    "print(\"Classification Report:\")\n",
    "print(report)"
   ]
  },
  {
   "cell_type": "code",
   "execution_count": 353,
   "metadata": {},
   "outputs": [
    {
     "name": "stdout",
     "output_type": "stream",
     "text": [
      "Confusion Matrix:\n",
      "[[1162  375    1]\n",
      " [ 798 1442    1]\n",
      " [ 282 1282  153]]\n"
     ]
    }
   ],
   "source": [
    "from sklearn.metrics import confusion_matrix\n",
    "\n",
    "# Create a confusion matrix\n",
    "conf_matrix = confusion_matrix(y_val_arr, y_pred_sentiment)\n",
    "\n",
    "print(\"Confusion Matrix:\")\n",
    "print(conf_matrix)"
   ]
  },
  {
   "cell_type": "code",
   "execution_count": 354,
   "metadata": {},
   "outputs": [
    {
     "data": {
      "image/png": "[encoded data removed]",
      "text/plain": [
       "<Figure size 800x600 with 2 Axes>"
      ]
     },
     "metadata": {},
     "output_type": "display_data"
    }
   ],
   "source": [
    "# Create a heatmap using seaborn\n",
    "plt.figure(figsize=(8, 6))\n",
    "sns.heatmap(conf_matrix, annot=True, fmt=\"d\", cmap=\"Blues\",\n",
    "            xticklabels=[\"Predicted Negative\", \"Predicted Neutral\", \"Predicted Positive\"],\n",
    "            yticklabels=[\"Actual Negative\", \"Actual Neutral\",\"Actual Positive\"])\n",
    "plt.xlabel(\"Predicted\")\n",
    "plt.ylabel(\"Actual\")\n",
    "plt.title(\"Confusion Matrix\")\n",
    "plt.show()"
   ]
  },
  {
   "cell_type": "markdown",
   "metadata": {},
   "source": [
    "### <font color = red><div align = left> Let test our model one the training set</font></div>"
   ]
  },
  {
   "cell_type": "code",
   "execution_count": 355,
   "metadata": {},
   "outputs": [],
   "source": [
    "# Predictions\n",
    "\n",
    "y_pred_sentiment_train = []\n",
    "\n",
    "for tweet in X_train[\"text_clear\"]:\n",
    "    \n",
    "    y_pred_sentiment_train.append(predict_naive_bayes(tweet, priors, proba_table))\n"
   ]
  },
  {
   "cell_type": "code",
   "execution_count": 356,
   "metadata": {},
   "outputs": [
    {
     "data": {
      "text/plain": [
       "0.6176310043668122"
      ]
     },
     "execution_count": 356,
     "metadata": {},
     "output_type": "execute_result"
    }
   ],
   "source": [
    "# Computing the accuracy\n",
    "\n",
    "m = len(y_pred_sentiment_train)\n",
    "\n",
    "y_train_arr = np.array(y_train)\n",
    "\n",
    "accuracy = np.sum(np.array(y_pred_sentiment_train) == y_train_arr)/m\n",
    "\n",
    "accuracy"
   ]
  },
  {
   "cell_type": "code",
   "execution_count": 357,
   "metadata": {},
   "outputs": [
    {
     "name": "stdout",
     "output_type": "stream",
     "text": [
      "Classification Report:\n",
      "              precision    recall  f1-score   support\n",
      "\n",
      "          -1       0.65      0.91      0.76      6243\n",
      "           0       0.57      0.81      0.67      8876\n",
      "           1       0.98      0.10      0.19      6865\n",
      "\n",
      "    accuracy                           0.62     21984\n",
      "   macro avg       0.74      0.61      0.54     21984\n",
      "weighted avg       0.72      0.62      0.55     21984\n",
      "\n"
     ]
    }
   ],
   "source": [
    "# Classification report\n",
    "\n",
    "from sklearn.metrics import classification_report\n",
    "\n",
    "report = classification_report(y_train_arr, np.array(y_pred_sentiment_train))\n",
    "print(\"Classification Report:\")\n",
    "print(report)"
   ]
  },
  {
   "cell_type": "code",
   "execution_count": 358,
   "metadata": {},
   "outputs": [
    {
     "name": "stdout",
     "output_type": "stream",
     "text": [
      "Confusion Matrix:\n",
      "[[5708  531    4]\n",
      " [1716 7152    8]\n",
      " [1302 4845  718]]\n"
     ]
    }
   ],
   "source": [
    "from sklearn.metrics import confusion_matrix\n",
    "\n",
    "# Create a confusion matrix\n",
    "conf_matrix_train = confusion_matrix(y_train_arr, y_pred_sentiment_train)\n",
    "\n",
    "print(\"Confusion Matrix:\")\n",
    "print(conf_matrix_train)"
   ]
  },
  {
   "cell_type": "code",
   "execution_count": 360,
   "metadata": {},
   "outputs": [
    {
     "data": {
      "image/png": "[encoded data removed]",
      "text/plain": [
       "<Figure size 800x600 with 2 Axes>"
      ]
     },
     "metadata": {},
     "output_type": "display_data"
    }
   ],
   "source": [
    "# Create a heatmap using seaborn\n",
    "plt.figure(figsize=(8, 6))\n",
    "sns.heatmap(conf_matrix_train, annot=True, fmt=\"d\", cmap=\"Blues\",\n",
    "            xticklabels=[\"Predicted Negative\", \"Predicted Neutral\", \"Predicted Positive\"],\n",
    "            yticklabels=[\"Actual Negative\", \"Actual Neutral\",\"Actual Positive\"])\n",
    "plt.xlabel(\"Predicted\")\n",
    "plt.ylabel(\"Actual\")\n",
    "plt.title(\"Confusion Matrix\")\n",
    "plt.show()"
   ]
  },
  {
   "cell_type": "markdown",
   "metadata": {},
   "source": [
    "\n",
    "# <div align = center> This good is quite good given its simplicity.</div>\n",
    "# <div align = center>  But we still have to improve the results since our model doesn't perform well for all classes. </div>\n",
    "# <div align = center> The next step will be to try probabilistic models. </div>\n"
   ]
  }
 ],
 "metadata": {
  "kernelspec": {
   "display_name": "Python 3",
   "language": "python",
   "name": "python3"
  },
  "language_info": {
   "codemirror_mode": {
    "name": "ipython",
    "version": 3
   },
   "file_extension": ".py",
   "mimetype": "text/x-python",
   "name": "python",
   "nbconvert_exporter": "python",
   "pygments_lexer": "ipython3",
   "version": "3.11.0"
  },
  "orig_nbformat": 4
 },
 "nbformat": 4,
 "nbformat_minor": 2
}
